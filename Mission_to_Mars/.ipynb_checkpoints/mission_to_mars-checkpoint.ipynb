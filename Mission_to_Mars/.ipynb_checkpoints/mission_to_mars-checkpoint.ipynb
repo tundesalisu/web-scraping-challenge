{
 "cells": [
  {
   "cell_type": "code",
   "execution_count": 4,
   "metadata": {},
   "outputs": [],
   "source": [
    "from splinter import Browser\n",
    "from bs4 import BeautifulSoup"
   ]
  },
  {
   "cell_type": "code",
   "execution_count": 31,
   "metadata": {},
   "outputs": [],
   "source": [
    "executable_path = {'executable_path': 'chromedriver.exe'}\n",
    "browser = Browser('chrome', executable_path, headless=False)"
   ]
  },
  {
   "cell_type": "code",
   "execution_count": 6,
   "metadata": {},
   "outputs": [],
   "source": [
    "url = 'https://mars.nasa.gov/news/'\n",
    "browser.visit(url)"
   ]
  },
  {
   "cell_type": "code",
   "execution_count": 23,
   "metadata": {},
   "outputs": [],
   "source": [
    "latest_news = []\n",
    "paragraph_news = []\n",
    "html = browser.html\n",
    "soup = BeautifulSoup(html, 'html.parser')\n",
    "latest_news_slide = soup.find_all('li', class_='slide')\n",
    "\n",
    "#latest_news_slide"
   ]
  },
  {
   "cell_type": "code",
   "execution_count": 24,
   "metadata": {
    "collapsed": true
   },
   "outputs": [
    {
     "name": "stdout",
     "output_type": "stream",
     "text": [
      "[\"Sometimes half measures can be a good thing – especially on a journey this long. The agency's latest rover only has about 146 million miles left to reach its destination.\", \"Instruments tailored to collect data during the descent of NASA's next rover through the Red Planet's atmosphere have been checked in flight.\", \"For hobbyists and makers, 3D printing expands creative possibilities; for specialized engineers, it's also key to next-generation spacecraft design.\", \"Now that the heat probe is just below the Martian surface, InSight's arm will scoop some additional soil on top to help it keep digging so it can take Mars' temperature.\", \"The agency's newest rover will use the first ground-penetrating radar instrument on the Martian surface to help search for signs of past microbial life. \", \"It's the first time machine learning has been used to find previously unknown craters on the Red Planet.\", 'Perseverance is one of a few Mars spacecraft carrying laser retroreflectors. The devices could provide new science and safer Mars landings in the future.', \"PIXL, an instrument on the end of the Perseverance rover's arm, will search for chemical fingerprints left by ancient microbes.\", 'In honor of Hispanic Heritage Month, Christina Hernandez, an instrument engineer on the Mars 2020 mission, talks about her childhood and journey to NASA.', \"Did you know NASA's next Mars rover has a nearly identical sibling on Earth for testing? Even better, it's about to roll for the first time through a replica Martian landscape.\", 'An electronics issue is suspected to be preventing the sensors from sharing their data about Mars weather with the spacecraft.', \"A crisply rendered web application can show you where the agency's Mars 2020 mission is right now as it makes its way to the Red Planet for a Feb. 18, 2021, landing.\", 'The board will assist with analysis of current plans and goals for one of the most difficult missions humanity has ever undertaken.', 'Headed to the Red Planet with the Perseverance rover, the pioneering helicopter is powered up for the first time in interplanetary space as part of a systems check.', 'Marking its 15th anniversary since launch, one of the oldest spacecraft at the Red Planet has provided glimpses of dust devils, avalanches, and more.', 'Vast areas of the Martian night sky pulse in ultraviolet light, according to images from NASA’s MAVEN spacecraft. The results are being used to illuminate complex circulation patterns in the Martian atmosphere.', 'The NASA rover touched down eight years ago, on Aug. 5, 2012, and will soon be joined by a second rover, Perseverance.', \"The agency's Mars 2020 mission is on its way. It will land at Jezero Crater in about seven months, on Feb. 18, 2021. \", 'In a Q&A, spacesuit designer Amy Ross explains how five samples, including a piece of helmet visor, will be tested aboard the rover, which is targeting a July 30 launch. ', 'With a targeted launch date of July 30, the next robotic scientist NASA is sending to the to the Red Planet has big ambitions.', 'There are lots of ways to participate in the historic event, which is targeted for July 30.', \"\\u200bThe agency's Mars 2020 mission has one more big prelaunch review – the Launch Readiness Review, on July 27.\", 'Starting July 27, news activities will cover everything from mission engineering and science to returning samples from Mars to, of course, the launch itself.', 'The first helicopter attempting to fly on another planet is a marvel of engineering. Get up to speed with these key facts about its plans.', 'No matter where you live, choose from a menu of activities to join NASA as we \"Countdown to Mars\" and launch the Perseverance rover to the Red Planet.', 'Ready for its launch later in the month, the Mars-bound rover will touch terra firma no more.', \"NASA's next rover to the Red Planet is slated to launch no earlier than July 30. These highlights will get you up to speed on the ambitious mission.\", \"Now that the lander's robotic arm has helped the mole get underground, it will resume science activities that have been on hold.\", 'After more than a year in the \"clay-bearing unit,\" Curiosity is making a mile-long journey around some deep sand so that it can explore higher up Mount Sharp.', 'The small craft will seek to prove that powered, controlled flight is possible on another planet. But just getting it onto the surface of Mars will take a whole lot of ingenuity.', \"The Red Planet's surface has been visited by eight NASA spacecraft. The ninth will be the first that includes a roundtrip ticket in its flight plan. \", \"Learn more about the agency's next Red Planet mission during a live event on June 17.\", \"This new portrait of the Red Planet's neighbors was taken during a time when there's more dust in the air on Mars.\", 'Using an online tool to label Martian terrain types, you can train an artificial intelligence algorithm that could improve the way engineers guide the Curiosity rover.', \"Taken with the infrared camera aboard NASA's Odyssey orbiter, they reveal temperature variations on the small moon as it drifts into and out of Mars’ shadow.\", 'Two astronauts collected Moon rocks on Apollo 11. It will take three robotic systems working together to gather up the first Mars rock samples for return to Earth.', 'An instrument called SHERLOC will, with the help of its partner WATSON, hunt for signs of ancient life by detecting organic molecules and minerals.', 'Five years after NASA’s MAVEN spacecraft entered into orbit around Mars, data from the mission has led to the creation of a map of electric current systems in the Martian atmosphere.', \"A NASA Wallops Flight Facility cargo plane transported more than two tons of equipment — including the rover's sample collection tubes — to Florida for this summer's liftoff.\", 'Winners include the JPL-managed \"Send Your Name to Mars\" campaign, NASA\\'s Global Climate Change website and Solar System Interactive.']\n"
     ]
    }
   ],
   "source": [
    "for title in latest_news_slide:\n",
    "    latest_title = title.find('div', class_='content_title').text  \n",
    "    paragraph_text = title.find('div', class_='article_teaser_body').text\n",
    "    \n",
    "    \n",
    "    latest_news.append(latest_title)\n",
    "    paragraph_news.append(paragraph_text)\n",
    "\n",
    "#print(latest_news)\n",
    "print(paragraph_news)\n"
   ]
  },
  {
   "cell_type": "code",
   "execution_count": 32,
   "metadata": {},
   "outputs": [],
   "source": [
    "JPLurl = 'https://www.jpl.nasa.gov/spaceimages/?search=&category=Mars'\n",
    "browser.visit(JPLurl)"
   ]
  },
  {
   "cell_type": "code",
   "execution_count": 34,
   "metadata": {
    "collapsed": true
   },
   "outputs": [
    {
     "data": {
      "text/plain": [
       "[<div class=\"img\">\n",
       " <img alt=\"Crater Rim Channels\" class=\"thumb\" src=\"/spaceimages/images/wallpaper/PIA24182-640x350.jpg\" title=\"Crater Rim Channels\"/>\n",
       " </div>,\n",
       " <div class=\"img\">\n",
       " <img alt=\"Chaos\" class=\"thumb\" src=\"/spaceimages/images/wallpaper/PIA24181-640x350.jpg\" title=\"Chaos\"/>\n",
       " </div>,\n",
       " <div class=\"img\">\n",
       " <img alt=\"Bright Hills\" class=\"thumb\" src=\"/spaceimages/images/wallpaper/PIA24160-640x350.jpg\" title=\"Bright Hills\"/>\n",
       " </div>,\n",
       " <div class=\"img\">\n",
       " <img alt=\"Russell Crater Dunes\" class=\"thumb\" src=\"/spaceimages/images/wallpaper/PIA24159-640x350.jpg\" title=\"Russell Crater Dunes\"/>\n",
       " </div>,\n",
       " <div class=\"img\">\n",
       " <img alt=\"Rabe Crater Dunes\" class=\"thumb\" src=\"/spaceimages/images/wallpaper/PIA24158-640x350.jpg\" title=\"Rabe Crater Dunes\"/>\n",
       " </div>,\n",
       " <div class=\"img\">\n",
       " <img alt=\"Ancient Jezero Crater (Illustration)\" class=\"thumb\" src=\"/spaceimages/images/wallpaper/PIA24172-640x350.jpg\" title=\"Ancient Jezero Crater (Illustration)\"/>\n",
       " </div>,\n",
       " <div class=\"img\">\n",
       " <img alt=\"Eberswalde Crater Delta\" class=\"thumb\" src=\"/spaceimages/images/wallpaper/PIA24157-640x350.jpg\" title=\"Eberswalde Crater Delta\"/>\n",
       " </div>,\n",
       " <div class=\"img\">\n",
       " <img alt=\"Ganges Chasma\" class=\"thumb\" src=\"/spaceimages/images/wallpaper/PIA24156-640x350.jpg\" title=\"Ganges Chasma\"/>\n",
       " </div>,\n",
       " <div class=\"img\">\n",
       " <img alt=\"Russell Crater Dunes\" class=\"thumb\" src=\"/spaceimages/images/wallpaper/PIA24155-640x350.jpg\" title=\"Russell Crater Dunes\"/>\n",
       " </div>,\n",
       " <div class=\"img\">\n",
       " <img alt=\"Replica of InSight\" arm=\"\" class=\"thumb\" practices=\"\" s=\"\" scraping'=\"\" src=\"/spaceimages/images/wallpaper/PIA24099-640x350.jpg\" title=\"Replica of InSight\"/>\n",
       " </div>,\n",
       " <div class=\"img\">\n",
       " <img alt=\"InSight\" arm=\"\" back,=\"\" class=\"thumb\" mole'=\"\" pulls=\"\" revealing=\"\" s=\"\" src=\"/spaceimages/images/wallpaper/PIA24098-640x350.jpg\" the=\"\" title=\"InSight\"/>\n",
       " </div>,\n",
       " <div class=\"img\">\n",
       " <img alt=\"Proctor Crater Dunes\" class=\"thumb\" src=\"/spaceimages/images/wallpaper/PIA24152-640x350.jpg\" title=\"Proctor Crater Dunes\"/>\n",
       " </div>,\n",
       " <div class=\"img\">\n",
       " <img alt=\"Pit Craters and Giant Volcanoes\" class=\"thumb\" src=\"/spaceimages/images/wallpaper/PIA24149-640x350.jpg\" title=\"Pit Craters and Giant Volcanoes\"/>\n",
       " </div>,\n",
       " <div class=\"img\">\n",
       " <img alt=\"Dust Devil Dance\" class=\"thumb\" src=\"/spaceimages/images/wallpaper/PIA24148-640x350.jpg\" title=\"Dust Devil Dance\"/>\n",
       " </div>,\n",
       " <div class=\"img\">\n",
       " <img alt=\"Cliffs in Ancient Ice\" class=\"thumb\" src=\"/spaceimages/images/wallpaper/PIA24147-640x350.jpg\" title=\"Cliffs in Ancient Ice\"/>\n",
       " </div>,\n",
       " <div class=\"img\">\n",
       " <img alt=\"A Criss-Cross Landscape with Fresh Craters\" class=\"thumb\" src=\"/spaceimages/images/wallpaper/PIA24146-640x350.jpg\" title=\"A Criss-Cross Landscape with Fresh Craters\"/>\n",
       " </div>,\n",
       " <div class=\"img\">\n",
       " <img alt=\"Rabe Crater Dunes\" class=\"thumb\" src=\"/spaceimages/images/wallpaper/PIA24151-640x350.jpg\" title=\"Rabe Crater Dunes\"/>\n",
       " </div>,\n",
       " <div class=\"img\">\n",
       " <img alt=\"All Broken Up\" class=\"thumb\" src=\"/spaceimages/images/wallpaper/PIA24145-640x350.jpg\" title=\"All Broken Up\"/>\n",
       " </div>,\n",
       " <div class=\"img\">\n",
       " <img alt=\"Southern Noachis Terra\" class=\"thumb\" src=\"/spaceimages/images/wallpaper/PIA24144-640x350.jpg\" title=\"Southern Noachis Terra\"/>\n",
       " </div>,\n",
       " <div class=\"img\">\n",
       " <img alt=\"Mangala Fossae\" class=\"thumb\" src=\"/spaceimages/images/wallpaper/PIA24143-640x350.jpg\" title=\"Mangala Fossae\"/>\n",
       " </div>,\n",
       " <div class=\"img\">\n",
       " <img alt=\"Proctor Crater Dunes\" class=\"thumb\" src=\"/spaceimages/images/wallpaper/PIA24142-640x350.jpg\" title=\"Proctor Crater Dunes\"/>\n",
       " </div>,\n",
       " <div class=\"img\">\n",
       " <img alt=\"Ascraeus Mons\" class=\"thumb\" src=\"/spaceimages/images/wallpaper/PIA24141-640x350.jpg\" title=\"Ascraeus Mons\"/>\n",
       " </div>,\n",
       " <div class=\"img\">\n",
       " <img alt=\"Nirgal Vallis\" class=\"thumb\" src=\"/spaceimages/images/wallpaper/PIA24125-640x350.jpg\" title=\"Nirgal Vallis\"/>\n",
       " </div>,\n",
       " <div class=\"img\">\n",
       " <img alt=\"Machine Learning Spots a Cluster of Mars Craters: Context Camera\" class=\"thumb\" s=\"\" src=\"/spaceimages/images/wallpaper/PIA24091-640x350.jpg\" title=\"Machine Learning Spots a Cluster of Mars Craters: Context Camera\" view'=\"\"/>\n",
       " </div>,\n",
       " <div class=\"img\">\n",
       " <img alt=\"AI Spots a Cluster of Mars Craters: HiRISE\" class=\"thumb\" s=\"\" src=\"/spaceimages/images/wallpaper/PIA24040-640x350.jpg\" title=\"AI Spots a Cluster of Mars Craters: HiRISE\" view'=\"\"/>\n",
       " </div>,\n",
       " <div class=\"img\">\n",
       " <img alt=\"Iani Chaos\" class=\"thumb\" src=\"/spaceimages/images/wallpaper/PIA24124-640x350.jpg\" title=\"Iani Chaos\"/>\n",
       " </div>,\n",
       " <div class=\"img\">\n",
       " <img alt=\"Ophir and Candor Chasmata\" class=\"thumb\" src=\"/spaceimages/images/wallpaper/PIA24123-640x350.jpg\" title=\"Ophir and Candor Chasmata\"/>\n",
       " </div>,\n",
       " <div class=\"img\">\n",
       " <img alt=\"Hephaestus Fossae\" class=\"thumb\" src=\"/spaceimages/images/wallpaper/PIA24122-640x350.jpg\" title=\"Hephaestus Fossae\"/>\n",
       " </div>,\n",
       " <div class=\"img\">\n",
       " <img alt=\"Crater Dunes\" class=\"thumb\" src=\"/spaceimages/images/wallpaper/PIA24121-640x350.jpg\" title=\"Crater Dunes\"/>\n",
       " </div>,\n",
       " <div class=\"img\">\n",
       " <img alt=\"Ascraeus Mons\" class=\"thumb\" src=\"/spaceimages/images/wallpaper/PIA24120-640x350.jpg\" title=\"Ascraeus Mons\"/>\n",
       " </div>,\n",
       " <div class=\"img\">\n",
       " <img alt=\"Noachis Terra Crater Dunes\" class=\"thumb\" src=\"/spaceimages/images/wallpaper/PIA24119-640x350.jpg\" title=\"Noachis Terra Crater Dunes\"/>\n",
       " </div>,\n",
       " <div class=\"img\">\n",
       " <img alt=\"Sirenum Fossae\" class=\"thumb\" src=\"/spaceimages/images/wallpaper/PIA24118-640x350.jpg\" title=\"Sirenum Fossae\"/>\n",
       " </div>]"
      ]
     },
     "execution_count": 34,
     "metadata": {},
     "output_type": "execute_result"
    }
   ],
   "source": [
    "featured_image_url = []\n",
    "html = browser.html\n",
    "soup = BeautifulSoup(html, 'html.parser')\n",
    "thumb_slide = soup.find_all('div', class_='img')\n",
    "thumb_slide"
   ]
  },
  {
   "cell_type": "code",
   "execution_count": 42,
   "metadata": {
    "collapsed": true
   },
   "outputs": [
    {
     "data": {
      "text/plain": [
       "['https://www.jpl.nasa.gov/spaceimages/images/wallpaper/PIA24182-640x350.jpg',\n",
       " 'https://www.jpl.nasa.gov/spaceimages/images/wallpaper/PIA24181-640x350.jpg',\n",
       " 'https://www.jpl.nasa.gov/spaceimages/images/wallpaper/PIA24160-640x350.jpg',\n",
       " 'https://www.jpl.nasa.gov/spaceimages/images/wallpaper/PIA24159-640x350.jpg',\n",
       " 'https://www.jpl.nasa.gov/spaceimages/images/wallpaper/PIA24158-640x350.jpg',\n",
       " 'https://www.jpl.nasa.gov/spaceimages/images/wallpaper/PIA24172-640x350.jpg',\n",
       " 'https://www.jpl.nasa.gov/spaceimages/images/wallpaper/PIA24157-640x350.jpg',\n",
       " 'https://www.jpl.nasa.gov/spaceimages/images/wallpaper/PIA24156-640x350.jpg',\n",
       " 'https://www.jpl.nasa.gov/spaceimages/images/wallpaper/PIA24155-640x350.jpg',\n",
       " 'https://www.jpl.nasa.gov/spaceimages/images/wallpaper/PIA24099-640x350.jpg',\n",
       " 'https://www.jpl.nasa.gov/spaceimages/images/wallpaper/PIA24098-640x350.jpg',\n",
       " 'https://www.jpl.nasa.gov/spaceimages/images/wallpaper/PIA24152-640x350.jpg',\n",
       " 'https://www.jpl.nasa.gov/spaceimages/images/wallpaper/PIA24149-640x350.jpg',\n",
       " 'https://www.jpl.nasa.gov/spaceimages/images/wallpaper/PIA24148-640x350.jpg',\n",
       " 'https://www.jpl.nasa.gov/spaceimages/images/wallpaper/PIA24147-640x350.jpg',\n",
       " 'https://www.jpl.nasa.gov/spaceimages/images/wallpaper/PIA24146-640x350.jpg',\n",
       " 'https://www.jpl.nasa.gov/spaceimages/images/wallpaper/PIA24151-640x350.jpg',\n",
       " 'https://www.jpl.nasa.gov/spaceimages/images/wallpaper/PIA24145-640x350.jpg',\n",
       " 'https://www.jpl.nasa.gov/spaceimages/images/wallpaper/PIA24144-640x350.jpg',\n",
       " 'https://www.jpl.nasa.gov/spaceimages/images/wallpaper/PIA24143-640x350.jpg',\n",
       " 'https://www.jpl.nasa.gov/spaceimages/images/wallpaper/PIA24142-640x350.jpg',\n",
       " 'https://www.jpl.nasa.gov/spaceimages/images/wallpaper/PIA24141-640x350.jpg',\n",
       " 'https://www.jpl.nasa.gov/spaceimages/images/wallpaper/PIA24125-640x350.jpg',\n",
       " 'https://www.jpl.nasa.gov/spaceimages/images/wallpaper/PIA24091-640x350.jpg',\n",
       " 'https://www.jpl.nasa.gov/spaceimages/images/wallpaper/PIA24040-640x350.jpg',\n",
       " 'https://www.jpl.nasa.gov/spaceimages/images/wallpaper/PIA24124-640x350.jpg',\n",
       " 'https://www.jpl.nasa.gov/spaceimages/images/wallpaper/PIA24123-640x350.jpg',\n",
       " 'https://www.jpl.nasa.gov/spaceimages/images/wallpaper/PIA24122-640x350.jpg',\n",
       " 'https://www.jpl.nasa.gov/spaceimages/images/wallpaper/PIA24121-640x350.jpg',\n",
       " 'https://www.jpl.nasa.gov/spaceimages/images/wallpaper/PIA24120-640x350.jpg',\n",
       " 'https://www.jpl.nasa.gov/spaceimages/images/wallpaper/PIA24119-640x350.jpg',\n",
       " 'https://www.jpl.nasa.gov/spaceimages/images/wallpaper/PIA24118-640x350.jpg',\n",
       " 'https://www.jpl.nasa.gov/spaceimages/images/wallpaper/PIA24182-640x350.jpg',\n",
       " 'https://www.jpl.nasa.gov/spaceimages/images/wallpaper/PIA24181-640x350.jpg',\n",
       " 'https://www.jpl.nasa.gov/spaceimages/images/wallpaper/PIA24160-640x350.jpg',\n",
       " 'https://www.jpl.nasa.gov/spaceimages/images/wallpaper/PIA24159-640x350.jpg',\n",
       " 'https://www.jpl.nasa.gov/spaceimages/images/wallpaper/PIA24158-640x350.jpg',\n",
       " 'https://www.jpl.nasa.gov/spaceimages/images/wallpaper/PIA24172-640x350.jpg',\n",
       " 'https://www.jpl.nasa.gov/spaceimages/images/wallpaper/PIA24157-640x350.jpg',\n",
       " 'https://www.jpl.nasa.gov/spaceimages/images/wallpaper/PIA24156-640x350.jpg',\n",
       " 'https://www.jpl.nasa.gov/spaceimages/images/wallpaper/PIA24155-640x350.jpg',\n",
       " 'https://www.jpl.nasa.gov/spaceimages/images/wallpaper/PIA24099-640x350.jpg',\n",
       " 'https://www.jpl.nasa.gov/spaceimages/images/wallpaper/PIA24098-640x350.jpg',\n",
       " 'https://www.jpl.nasa.gov/spaceimages/images/wallpaper/PIA24152-640x350.jpg',\n",
       " 'https://www.jpl.nasa.gov/spaceimages/images/wallpaper/PIA24149-640x350.jpg',\n",
       " 'https://www.jpl.nasa.gov/spaceimages/images/wallpaper/PIA24148-640x350.jpg',\n",
       " 'https://www.jpl.nasa.gov/spaceimages/images/wallpaper/PIA24147-640x350.jpg',\n",
       " 'https://www.jpl.nasa.gov/spaceimages/images/wallpaper/PIA24146-640x350.jpg',\n",
       " 'https://www.jpl.nasa.gov/spaceimages/images/wallpaper/PIA24151-640x350.jpg',\n",
       " 'https://www.jpl.nasa.gov/spaceimages/images/wallpaper/PIA24145-640x350.jpg',\n",
       " 'https://www.jpl.nasa.gov/spaceimages/images/wallpaper/PIA24144-640x350.jpg',\n",
       " 'https://www.jpl.nasa.gov/spaceimages/images/wallpaper/PIA24143-640x350.jpg',\n",
       " 'https://www.jpl.nasa.gov/spaceimages/images/wallpaper/PIA24142-640x350.jpg',\n",
       " 'https://www.jpl.nasa.gov/spaceimages/images/wallpaper/PIA24141-640x350.jpg',\n",
       " 'https://www.jpl.nasa.gov/spaceimages/images/wallpaper/PIA24125-640x350.jpg',\n",
       " 'https://www.jpl.nasa.gov/spaceimages/images/wallpaper/PIA24091-640x350.jpg',\n",
       " 'https://www.jpl.nasa.gov/spaceimages/images/wallpaper/PIA24040-640x350.jpg',\n",
       " 'https://www.jpl.nasa.gov/spaceimages/images/wallpaper/PIA24124-640x350.jpg',\n",
       " 'https://www.jpl.nasa.gov/spaceimages/images/wallpaper/PIA24123-640x350.jpg',\n",
       " 'https://www.jpl.nasa.gov/spaceimages/images/wallpaper/PIA24122-640x350.jpg',\n",
       " 'https://www.jpl.nasa.gov/spaceimages/images/wallpaper/PIA24121-640x350.jpg',\n",
       " 'https://www.jpl.nasa.gov/spaceimages/images/wallpaper/PIA24120-640x350.jpg',\n",
       " 'https://www.jpl.nasa.gov/spaceimages/images/wallpaper/PIA24119-640x350.jpg',\n",
       " 'https://www.jpl.nasa.gov/spaceimages/images/wallpaper/PIA24118-640x350.jpg',\n",
       " 'https://www.jpl.nasa.gov/spaceimages/images/wallpaper/PIA24182-640x350.jpg',\n",
       " 'https://www.jpl.nasa.gov/spaceimages/images/wallpaper/PIA24181-640x350.jpg',\n",
       " 'https://www.jpl.nasa.gov/spaceimages/images/wallpaper/PIA24160-640x350.jpg',\n",
       " 'https://www.jpl.nasa.gov/spaceimages/images/wallpaper/PIA24159-640x350.jpg',\n",
       " 'https://www.jpl.nasa.gov/spaceimages/images/wallpaper/PIA24158-640x350.jpg',\n",
       " 'https://www.jpl.nasa.gov/spaceimages/images/wallpaper/PIA24172-640x350.jpg',\n",
       " 'https://www.jpl.nasa.gov/spaceimages/images/wallpaper/PIA24157-640x350.jpg',\n",
       " 'https://www.jpl.nasa.gov/spaceimages/images/wallpaper/PIA24156-640x350.jpg',\n",
       " 'https://www.jpl.nasa.gov/spaceimages/images/wallpaper/PIA24155-640x350.jpg',\n",
       " 'https://www.jpl.nasa.gov/spaceimages/images/wallpaper/PIA24099-640x350.jpg',\n",
       " 'https://www.jpl.nasa.gov/spaceimages/images/wallpaper/PIA24098-640x350.jpg',\n",
       " 'https://www.jpl.nasa.gov/spaceimages/images/wallpaper/PIA24152-640x350.jpg',\n",
       " 'https://www.jpl.nasa.gov/spaceimages/images/wallpaper/PIA24149-640x350.jpg',\n",
       " 'https://www.jpl.nasa.gov/spaceimages/images/wallpaper/PIA24148-640x350.jpg',\n",
       " 'https://www.jpl.nasa.gov/spaceimages/images/wallpaper/PIA24147-640x350.jpg',\n",
       " 'https://www.jpl.nasa.gov/spaceimages/images/wallpaper/PIA24146-640x350.jpg',\n",
       " 'https://www.jpl.nasa.gov/spaceimages/images/wallpaper/PIA24151-640x350.jpg',\n",
       " 'https://www.jpl.nasa.gov/spaceimages/images/wallpaper/PIA24145-640x350.jpg',\n",
       " 'https://www.jpl.nasa.gov/spaceimages/images/wallpaper/PIA24144-640x350.jpg',\n",
       " 'https://www.jpl.nasa.gov/spaceimages/images/wallpaper/PIA24143-640x350.jpg',\n",
       " 'https://www.jpl.nasa.gov/spaceimages/images/wallpaper/PIA24142-640x350.jpg',\n",
       " 'https://www.jpl.nasa.gov/spaceimages/images/wallpaper/PIA24141-640x350.jpg',\n",
       " 'https://www.jpl.nasa.gov/spaceimages/images/wallpaper/PIA24125-640x350.jpg',\n",
       " 'https://www.jpl.nasa.gov/spaceimages/images/wallpaper/PIA24091-640x350.jpg',\n",
       " 'https://www.jpl.nasa.gov/spaceimages/images/wallpaper/PIA24040-640x350.jpg',\n",
       " 'https://www.jpl.nasa.gov/spaceimages/images/wallpaper/PIA24124-640x350.jpg',\n",
       " 'https://www.jpl.nasa.gov/spaceimages/images/wallpaper/PIA24123-640x350.jpg',\n",
       " 'https://www.jpl.nasa.gov/spaceimages/images/wallpaper/PIA24122-640x350.jpg',\n",
       " 'https://www.jpl.nasa.gov/spaceimages/images/wallpaper/PIA24121-640x350.jpg',\n",
       " 'https://www.jpl.nasa.gov/spaceimages/images/wallpaper/PIA24120-640x350.jpg',\n",
       " 'https://www.jpl.nasa.gov/spaceimages/images/wallpaper/PIA24119-640x350.jpg',\n",
       " 'https://www.jpl.nasa.gov/spaceimages/images/wallpaper/PIA24118-640x350.jpg']"
      ]
     },
     "execution_count": 42,
     "metadata": {},
     "output_type": "execute_result"
    }
   ],
   "source": [
    "for thumb in thumb_slide:\n",
    "    thum_image = thumb.img['src']\n",
    "    featured_image_url.append(thum_image)\n",
    "book_url_list = ['https://www.jpl.nasa.gov' + url for url in featured_image_url]\n",
    "book_url_list"
   ]
  },
  {
   "cell_type": "code",
   "execution_count": 43,
   "metadata": {},
   "outputs": [],
   "source": [
    "import pandas as pd"
   ]
  },
  {
   "cell_type": "code",
   "execution_count": 48,
   "metadata": {},
   "outputs": [],
   "source": [
    "url = 'https://space-facts.com/mars/'"
   ]
  },
  {
   "cell_type": "code",
   "execution_count": 49,
   "metadata": {},
   "outputs": [
    {
     "data": {
      "text/plain": [
       "[                      0                              1\n",
       " 0  Equatorial Diameter:                       6,792 km\n",
       " 1       Polar Diameter:                       6,752 km\n",
       " 2                 Mass:  6.39 × 10^23 kg (0.11 Earths)\n",
       " 3                Moons:            2 (Phobos & Deimos)\n",
       " 4       Orbit Distance:       227,943,824 km (1.38 AU)\n",
       " 5         Orbit Period:           687 days (1.9 years)\n",
       " 6  Surface Temperature:                   -87 to -5 °C\n",
       " 7         First Record:              2nd millennium BC\n",
       " 8          Recorded By:           Egyptian astronomers,\n",
       "   Mars - Earth Comparison             Mars            Earth\n",
       " 0               Diameter:         6,779 km        12,742 km\n",
       " 1                   Mass:  6.39 × 10^23 kg  5.97 × 10^24 kg\n",
       " 2                  Moons:                2                1\n",
       " 3      Distance from Sun:   227,943,824 km   149,598,262 km\n",
       " 4         Length of Year:   687 Earth days      365.24 days\n",
       " 5            Temperature:     -87 to -5 °C      -88 to 58°C,\n",
       "                       0                              1\n",
       " 0  Equatorial Diameter:                       6,792 km\n",
       " 1       Polar Diameter:                       6,752 km\n",
       " 2                 Mass:  6.39 × 10^23 kg (0.11 Earths)\n",
       " 3                Moons:            2 (Phobos & Deimos)\n",
       " 4       Orbit Distance:       227,943,824 km (1.38 AU)\n",
       " 5         Orbit Period:           687 days (1.9 years)\n",
       " 6  Surface Temperature:                   -87 to -5 °C\n",
       " 7         First Record:              2nd millennium BC\n",
       " 8          Recorded By:           Egyptian astronomers]"
      ]
     },
     "execution_count": 49,
     "metadata": {},
     "output_type": "execute_result"
    }
   ],
   "source": [
    "tables = pd.read_html(url)\n",
    "tables"
   ]
  },
  {
   "cell_type": "code",
   "execution_count": 51,
   "metadata": {},
   "outputs": [
    {
     "data": {
      "text/html": [
       "<div>\n",
       "<style scoped>\n",
       "    .dataframe tbody tr th:only-of-type {\n",
       "        vertical-align: middle;\n",
       "    }\n",
       "\n",
       "    .dataframe tbody tr th {\n",
       "        vertical-align: top;\n",
       "    }\n",
       "\n",
       "    .dataframe thead th {\n",
       "        text-align: right;\n",
       "    }\n",
       "</style>\n",
       "<table border=\"1\" class=\"dataframe\">\n",
       "  <thead>\n",
       "    <tr style=\"text-align: right;\">\n",
       "      <th></th>\n",
       "      <th>description</th>\n",
       "      <th>value</th>\n",
       "    </tr>\n",
       "  </thead>\n",
       "  <tbody>\n",
       "    <tr>\n",
       "      <th>0</th>\n",
       "      <td>Equatorial Diameter:</td>\n",
       "      <td>6,792 km</td>\n",
       "    </tr>\n",
       "    <tr>\n",
       "      <th>1</th>\n",
       "      <td>Polar Diameter:</td>\n",
       "      <td>6,752 km</td>\n",
       "    </tr>\n",
       "    <tr>\n",
       "      <th>2</th>\n",
       "      <td>Mass:</td>\n",
       "      <td>6.39 × 10^23 kg (0.11 Earths)</td>\n",
       "    </tr>\n",
       "    <tr>\n",
       "      <th>3</th>\n",
       "      <td>Moons:</td>\n",
       "      <td>2 (Phobos &amp; Deimos)</td>\n",
       "    </tr>\n",
       "    <tr>\n",
       "      <th>4</th>\n",
       "      <td>Orbit Distance:</td>\n",
       "      <td>227,943,824 km (1.38 AU)</td>\n",
       "    </tr>\n",
       "  </tbody>\n",
       "</table>\n",
       "</div>"
      ],
      "text/plain": [
       "            description                          value\n",
       "0  Equatorial Diameter:                       6,792 km\n",
       "1       Polar Diameter:                       6,752 km\n",
       "2                 Mass:  6.39 × 10^23 kg (0.11 Earths)\n",
       "3                Moons:            2 (Phobos & Deimos)\n",
       "4       Orbit Distance:       227,943,824 km (1.38 AU)"
      ]
     },
     "execution_count": 51,
     "metadata": {},
     "output_type": "execute_result"
    }
   ],
   "source": [
    "table = tables[0]\n",
    "table.columns = ['description','value']\n",
    "table.head()"
   ]
  },
  {
   "cell_type": "code",
   "execution_count": 52,
   "metadata": {},
   "outputs": [
    {
     "data": {
      "text/plain": [
       "'<table border=\"1\" class=\"dataframe\">\\n  <thead>\\n    <tr style=\"text-align: right;\">\\n      <th></th>\\n      <th>description</th>\\n      <th>value</th>\\n    </tr>\\n  </thead>\\n  <tbody>\\n    <tr>\\n      <th>0</th>\\n      <td>Equatorial Diameter:</td>\\n      <td>6,792 km</td>\\n    </tr>\\n    <tr>\\n      <th>1</th>\\n      <td>Polar Diameter:</td>\\n      <td>6,752 km</td>\\n    </tr>\\n    <tr>\\n      <th>2</th>\\n      <td>Mass:</td>\\n      <td>6.39 × 10^23 kg (0.11 Earths)</td>\\n    </tr>\\n    <tr>\\n      <th>3</th>\\n      <td>Moons:</td>\\n      <td>2 (Phobos &amp; Deimos)</td>\\n    </tr>\\n    <tr>\\n      <th>4</th>\\n      <td>Orbit Distance:</td>\\n      <td>227,943,824 km (1.38 AU)</td>\\n    </tr>\\n    <tr>\\n      <th>5</th>\\n      <td>Orbit Period:</td>\\n      <td>687 days (1.9 years)</td>\\n    </tr>\\n    <tr>\\n      <th>6</th>\\n      <td>Surface Temperature:</td>\\n      <td>-87 to -5 °C</td>\\n    </tr>\\n    <tr>\\n      <th>7</th>\\n      <td>First Record:</td>\\n      <td>2nd millennium BC</td>\\n    </tr>\\n    <tr>\\n      <th>8</th>\\n      <td>Recorded By:</td>\\n      <td>Egyptian astronomers</td>\\n    </tr>\\n  </tbody>\\n</table>'"
      ]
     },
     "execution_count": 52,
     "metadata": {},
     "output_type": "execute_result"
    }
   ],
   "source": [
    "html_table = table.to_html()\n",
    "html_table"
   ]
  },
  {
   "cell_type": "code",
   "execution_count": 53,
   "metadata": {},
   "outputs": [],
   "source": [
    "table.to_html('marsTable.html')"
   ]
  },
  {
   "cell_type": "code",
   "execution_count": 54,
   "metadata": {},
   "outputs": [],
   "source": [
    "executable_path = {'executable_path': 'chromedriver.exe'}\n",
    "browser = Browser('chrome', executable_path, headless=False)"
   ]
  },
  {
   "cell_type": "code",
   "execution_count": 55,
   "metadata": {},
   "outputs": [],
   "source": [
    "url = 'https://astrogeology.usgs.gov/search/results?q=hemisphere+enhanced&k1=target&v1=Mars'\n",
    "browser.visit(url)"
   ]
  },
  {
   "cell_type": "code",
   "execution_count": 66,
   "metadata": {},
   "outputs": [
    {
     "data": {
      "text/plain": [
       "[<div class=\"item\"><a class=\"itemLink product-item\" href=\"/search/map/Mars/Viking/cerberus_enhanced\"><img alt=\"Cerberus Hemisphere Enhanced thumbnail\" class=\"thumb\" src=\"/cache/images/39d3266553462198bd2fbc4d18fbed17_cerberus_enhanced.tif_thumb.png\"/></a><div class=\"description\"><a class=\"itemLink product-item\" href=\"/search/map/Mars/Viking/cerberus_enhanced\"><h3>Cerberus Hemisphere Enhanced</h3></a><span class=\"subtitle\" style=\"float:left\">image/tiff 21 MB</span><span class=\"pubDate\" style=\"float:right\"></span><br/><p>Mosaic of the Cerberus hemisphere of Mars projected into point perspective, a view similar to that which one would see from a spacecraft. This mosaic is composed of 104 Viking Orbiter images acquired…</p></div> <!-- end description --></div>,\n",
       " <div class=\"item\"><a class=\"itemLink product-item\" href=\"/search/map/Mars/Viking/schiaparelli_enhanced\"><img alt=\"Schiaparelli Hemisphere Enhanced thumbnail\" class=\"thumb\" src=\"/cache/images/08eac6e22c07fb1fe72223a79252de20_schiaparelli_enhanced.tif_thumb.png\"/></a><div class=\"description\"><a class=\"itemLink product-item\" href=\"/search/map/Mars/Viking/schiaparelli_enhanced\"><h3>Schiaparelli Hemisphere Enhanced</h3></a><span class=\"subtitle\" style=\"float:left\">image/tiff 35 MB</span><span class=\"pubDate\" style=\"float:right\"></span><br/><p>Mosaic of the Schiaparelli hemisphere of Mars projected into point perspective, a view similar to that which one would see from a spacecraft. The images were acquired in 1980 during early northern…</p></div> <!-- end description --></div>,\n",
       " <div class=\"item\"><a class=\"itemLink product-item\" href=\"/search/map/Mars/Viking/syrtis_major_enhanced\"><img alt=\"Syrtis Major Hemisphere Enhanced thumbnail\" class=\"thumb\" src=\"/cache/images/55a0a1e2796313fdeafb17c35925e8ac_syrtis_major_enhanced.tif_thumb.png\"/></a><div class=\"description\"><a class=\"itemLink product-item\" href=\"/search/map/Mars/Viking/syrtis_major_enhanced\"><h3>Syrtis Major Hemisphere Enhanced</h3></a><span class=\"subtitle\" style=\"float:left\">image/tiff 25 MB</span><span class=\"pubDate\" style=\"float:right\"></span><br/><p>Mosaic of the Syrtis Major hemisphere of Mars projected into point perspective, a view similar to that which one would see from a spacecraft. This mosaic is composed of about 100 red and violet…</p></div> <!-- end description --></div>,\n",
       " <div class=\"item\"><a class=\"itemLink product-item\" href=\"/search/map/Mars/Viking/valles_marineris_enhanced\"><img alt=\"Valles Marineris Hemisphere Enhanced thumbnail\" class=\"thumb\" src=\"/cache/images/4e59980c1c57f89c680c0e1ccabbeff1_valles_marineris_enhanced.tif_thumb.png\"/></a><div class=\"description\"><a class=\"itemLink product-item\" href=\"/search/map/Mars/Viking/valles_marineris_enhanced\"><h3>Valles Marineris Hemisphere Enhanced</h3></a><span class=\"subtitle\" style=\"float:left\">image/tiff 27 MB</span><span class=\"pubDate\" style=\"float:right\"></span><br/><p>Mosaic of the Valles Marineris hemisphere of Mars projected into point perspective, a view similar to that which one would see from a spacecraft. The distance is 2500 kilometers from the surface of…</p></div> <!-- end description --></div>]"
      ]
     },
     "execution_count": 66,
     "metadata": {},
     "output_type": "execute_result"
    }
   ],
   "source": [
    "\n",
    "html = browser.html\n",
    "soup = BeautifulSoup(html, 'html.parser')\n",
    "scraped_data = soup.find_all('div', class_='item')\n",
    "scraped_data"
   ]
  },
  {
   "cell_type": "code",
   "execution_count": 69,
   "metadata": {},
   "outputs": [
    {
     "name": "stdout",
     "output_type": "stream",
     "text": [
      "Cerberus Hemisphere Enhanced\n",
      "Schiaparelli Hemisphere Enhanced\n",
      "Syrtis Major Hemisphere Enhanced\n",
      "Valles Marineris Hemisphere Enhanced\n"
     ]
    },
    {
     "data": {
      "text/plain": [
       "['Cerberus Hemisphere Enhanced',\n",
       " 'Schiaparelli Hemisphere Enhanced',\n",
       " 'Syrtis Major Hemisphere Enhanced',\n",
       " 'Valles Marineris Hemisphere Enhanced']"
      ]
     },
     "execution_count": 69,
     "metadata": {},
     "output_type": "execute_result"
    }
   ],
   "source": [
    "title = []\n",
    "img_url = []\n",
    "for each in scraped_data:\n",
    "    each_title = 'https://astrogeology.usgs.gov'+ each.img['src']\n",
    "    each_title_text = each.h3.text\n",
    "    img_url.append(each_title)\n",
    "    title.append(each_title_text)\n",
    "    #print(each_title_text)\n",
    "img_url\n",
    "title  "
   ]
  },
  {
   "cell_type": "code",
   "execution_count": 71,
   "metadata": {},
   "outputs": [
    {
     "data": {
      "text/plain": [
       "[{'title': 'Valles Marineris Hemisphere Enhanced',\n",
       "  'img_url': 'https://astrogeology.usgs.gov/cache/images/4e59980c1c57f89c680c0e1ccabbeff1_valles_marineris_enhanced.tif_thumb.png'},\n",
       " {'title': 'Valles Marineris Hemisphere Enhanced',\n",
       "  'img_url': 'https://astrogeology.usgs.gov/cache/images/4e59980c1c57f89c680c0e1ccabbeff1_valles_marineris_enhanced.tif_thumb.png'},\n",
       " {'title': 'Valles Marineris Hemisphere Enhanced',\n",
       "  'img_url': 'https://astrogeology.usgs.gov/cache/images/4e59980c1c57f89c680c0e1ccabbeff1_valles_marineris_enhanced.tif_thumb.png'},\n",
       " {'title': 'Valles Marineris Hemisphere Enhanced',\n",
       "  'img_url': 'https://astrogeology.usgs.gov/cache/images/4e59980c1c57f89c680c0e1ccabbeff1_valles_marineris_enhanced.tif_thumb.png'}]"
      ]
     },
     "execution_count": 71,
     "metadata": {},
     "output_type": "execute_result"
    }
   ],
   "source": [
    "img_title_dict = {}\n",
    "img_title_dict_list = []\n",
    "for each in scraped_data:\n",
    "    each_title = 'https://astrogeology.usgs.gov'+ each.img['src']\n",
    "    each_title_text = each.h3.text\n",
    "    img_url.append(each_title)\n",
    "    title.append(each_title_text)\n",
    "    img_title_dict['title']= each_title_text\n",
    "    img_title_dict['img_url']= each_title\n",
    "    img_title_dict_list.append(img_title_dict)\n",
    "img_title_dict_list"
   ]
  },
  {
   "cell_type": "code",
   "execution_count": 70,
   "metadata": {},
   "outputs": [
    {
     "data": {
      "text/html": [
       "<div>\n",
       "<style scoped>\n",
       "    .dataframe tbody tr th:only-of-type {\n",
       "        vertical-align: middle;\n",
       "    }\n",
       "\n",
       "    .dataframe tbody tr th {\n",
       "        vertical-align: top;\n",
       "    }\n",
       "\n",
       "    .dataframe thead th {\n",
       "        text-align: right;\n",
       "    }\n",
       "</style>\n",
       "<table border=\"1\" class=\"dataframe\">\n",
       "  <thead>\n",
       "    <tr style=\"text-align: right;\">\n",
       "      <th></th>\n",
       "      <th>title</th>\n",
       "      <th>img_url</th>\n",
       "    </tr>\n",
       "  </thead>\n",
       "  <tbody>\n",
       "    <tr>\n",
       "      <th>0</th>\n",
       "      <td>Cerberus Hemisphere Enhanced</td>\n",
       "      <td>https://astrogeology.usgs.gov/cache/images/39d...</td>\n",
       "    </tr>\n",
       "    <tr>\n",
       "      <th>1</th>\n",
       "      <td>Schiaparelli Hemisphere Enhanced</td>\n",
       "      <td>https://astrogeology.usgs.gov/cache/images/08e...</td>\n",
       "    </tr>\n",
       "    <tr>\n",
       "      <th>2</th>\n",
       "      <td>Syrtis Major Hemisphere Enhanced</td>\n",
       "      <td>https://astrogeology.usgs.gov/cache/images/55a...</td>\n",
       "    </tr>\n",
       "    <tr>\n",
       "      <th>3</th>\n",
       "      <td>Valles Marineris Hemisphere Enhanced</td>\n",
       "      <td>https://astrogeology.usgs.gov/cache/images/4e5...</td>\n",
       "    </tr>\n",
       "  </tbody>\n",
       "</table>\n",
       "</div>"
      ],
      "text/plain": [
       "                                  title  \\\n",
       "0          Cerberus Hemisphere Enhanced   \n",
       "1      Schiaparelli Hemisphere Enhanced   \n",
       "2      Syrtis Major Hemisphere Enhanced   \n",
       "3  Valles Marineris Hemisphere Enhanced   \n",
       "\n",
       "                                             img_url  \n",
       "0  https://astrogeology.usgs.gov/cache/images/39d...  \n",
       "1  https://astrogeology.usgs.gov/cache/images/08e...  \n",
       "2  https://astrogeology.usgs.gov/cache/images/55a...  \n",
       "3  https://astrogeology.usgs.gov/cache/images/4e5...  "
      ]
     },
     "execution_count": 70,
     "metadata": {},
     "output_type": "execute_result"
    }
   ],
   "source": [
    "img_title_summary = pd.DataFrame({\n",
    "    \"title\":title,\n",
    "    \"img_url\":img_url\n",
    "})\n",
    "img_title_summary"
   ]
  },
  {
   "cell_type": "code",
   "execution_count": null,
   "metadata": {},
   "outputs": [],
   "source": []
  }
 ],
 "metadata": {
  "kernelspec": {
   "display_name": "Python 3",
   "language": "python",
   "name": "python3"
  },
  "language_info": {
   "codemirror_mode": {
    "name": "ipython",
    "version": 3
   },
   "file_extension": ".py",
   "mimetype": "text/x-python",
   "name": "python",
   "nbconvert_exporter": "python",
   "pygments_lexer": "ipython3",
   "version": "3.7.6"
  }
 },
 "nbformat": 4,
 "nbformat_minor": 4
}
